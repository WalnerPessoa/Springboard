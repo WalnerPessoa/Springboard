{
 "cells": [
  {
   "cell_type": "markdown",
   "metadata": {},
   "source": [
    "# Mini Project: Tree-Based Algorithms"
   ]
  },
  {
   "cell_type": "markdown",
   "metadata": {},
   "source": [
    "## The \"German Credit\" Dataset"
   ]
  },
  {
   "cell_type": "markdown",
   "metadata": {},
   "source": [
    "### Dataset Details"
   ]
  },
  {
   "cell_type": "markdown",
   "metadata": {},
   "source": [
    "This dataset has two classes (these would be considered labels in Machine Learning terms) to describe the worthiness of a personal loan: \"Good\" or \"Bad\". There are predictors related to attributes, such as: checking account status, duration, credit history, purpose of the loan, amount of the loan, savings accounts or bonds, employment duration, installment rate in percentage of disposable income, personal information, other debtors/guarantors, residence duration, property, age, other installment plans, housing, number of existing credits, job information, number of people being liable to provide maintenance for, telephone, and foreign worker status.\n",
    "\n",
    "Many of these predictors are discrete and have been expanded into several 0/1 indicator variables (a.k.a. they have been one-hot-encoded).\n",
    "\n",
    "This dataset has been kindly provided by Professor Dr. Hans Hofmann of the University of Hamburg, and can also be found on the UCI Machine Learning Repository."
   ]
  },
  {
   "cell_type": "markdown",
   "metadata": {},
   "source": [
    "\n",
    "\n",
    "\n"
   ]
  },
  {
   "cell_type": "markdown",
   "metadata": {},
   "source": [
    "## Decision Trees"
   ]
  },
  {
   "cell_type": "markdown",
   "metadata": {},
   "source": [
    " As we have learned in the previous lectures, Decision Trees as a family of algorithms (irrespective to the particular implementation) are powerful algorithms that can produce models with a predictive accuracy higher than that produced by linear models, such as Linear or Logistic Regression. Primarily, this is due to the fact the DT's can model nonlinear relationships, and also have a number of tuning paramters, that allow for the practicioner to achieve the best possible model. An added bonus is the ability to visualize the trained Decision Tree model, which allows for some insight into how the model has produced the predictions that it has. One caveat here, to keep in mind, is that sometimes, due to the size of the dataset (both in the sense of the number of records, as well as the number of features), the visualization might prove to be very large and complex, increasing the difficulty of interpretation."
   ]
  },
  {
   "cell_type": "markdown",
   "metadata": {},
   "source": [
    "To give you a very good example of how Decision Trees can be visualized and interpreted, we would strongly recommend that, before continuing on with solving the problems in this Mini Project, you take the time to read this fanstastic, detailed and informative blog post: http://explained.ai/decision-tree-viz/index.html"
   ]
  },
  {
   "cell_type": "markdown",
   "metadata": {},
   "source": [
    "## Building Your First Decision Tree Model"
   ]
  },
  {
   "cell_type": "markdown",
   "metadata": {},
   "source": [
    "So, now it's time to jump straight into the heart of the matter. Your first task, is to build a Decision Tree model, using the aforementioned \"German Credit\" dataset, which contains 1,000 records, and 62 columns (one of them presents the labels, and the other 61 present the potential features for the model.)"
   ]
  },
  {
   "cell_type": "markdown",
   "metadata": {},
   "source": [
    "For this task, you will be using the scikit-learn library, which comes already pre-installed with the Anaconda Python distribution. In case you're not using that, you can easily install it using pip."
   ]
  },
  {
   "cell_type": "markdown",
   "metadata": {},
   "source": [
    "Before embarking on creating your first model, we would strongly encourage you to read the short tutorial for Decision Trees in scikit-learn (http://scikit-learn.org/stable/modules/tree.html), and then dive a bit deeper into the documentation of the algorithm itself (http://scikit-learn.org/stable/modules/generated/sklearn.tree.DecisionTreeClassifier.html). "
   ]
  },
  {
   "cell_type": "markdown",
   "metadata": {},
   "source": [
    "Also, since you want to be able to present the results of your model, we suggest you take a look at the tutorial for accuracy metrics for classification models (http://scikit-learn.org/stable/modules/model_evaluation.html#classification-report) as well as the more detailed documentation (http://scikit-learn.org/stable/modules/generated/sklearn.metrics.classification_report.html).\n",
    "\n",
    "Finally, an *amazing* resource that explains the various classification model accuracy metrics, as well as the relationships between them, can be found on Wikipedia: https://en.wikipedia.org/wiki/Confusion_matrix"
   ]
  },
  {
   "cell_type": "markdown",
   "metadata": {},
   "source": [
    "(Note: as you've already learned in the Logistic Regression mini project, a standard practice in Machine Learning for achieving the best possible result when training a model is to use hyperparameter tuning, through Grid Search and k-fold Cross Validation. We strongly encourage you to use it here as well, not just because it's standard practice, but also becuase it's not going to be computationally to intensive, due to the size of the dataset that you're working with. Our suggestion here is that you split the data into 70% training, and 30% testing. Then, do the hyperparameter tuning and Cross Validation on the training set, and afterwards to a final test on the testing set.)"
   ]
  },
  {
   "cell_type": "markdown",
   "metadata": {},
   "source": [
    "### Now we pass the torch onto you! You can start building your first Decision Tree model! :)"
   ]
  },
  {
   "cell_type": "code",
   "execution_count": 13,
   "metadata": {
    "collapsed": true
   },
   "outputs": [],
   "source": [
    "import pandas as pd\n",
    "from sklearn.tree import DecisionTreeClassifier\n",
    "from sklearn.metrics import classification_report\n",
    "from sklearn.model_selection import train_test_split\n",
    "from sklearn.model_selection import GridSearchCV\n",
    "from sklearn.model_selection import cross_val_score"
   ]
  },
  {
   "cell_type": "code",
   "execution_count": 67,
   "metadata": {},
   "outputs": [
    {
     "data": {
      "text/plain": [
       "array([ 0.61290323,  0.64516129,  0.64516129,  0.67741935,  0.76666667,\n",
       "        0.56666667,  0.72413793,  0.72413793,  0.55172414,  0.62068966])"
      ]
     },
     "execution_count": 67,
     "metadata": {},
     "output_type": "execute_result"
    }
   ],
   "source": [
    "# Your code here! :)\n",
    "df = pd.read_csv(\"GermanCredit.csv\")\n",
    "df.Class = df.Class.apply(lambda x: 0 if x=='Bad' else 1)\n",
    "df_x = df.drop(['Class'], axis=1)\n",
    "df_y = df['Class']\n",
    "X_train, X_test, y_train, y_test = train_test_split(df_x, df_y, test_size=0.3, random_state=0)\n",
    "dt_clf = DecisionTreeClassifier(random_state=0)\n",
    "dt_clf.fit(X_train,y_train)\n",
    "cross_val_score(dt_clf, X_test, y_test, cv=10)"
   ]
  },
  {
   "cell_type": "markdown",
   "metadata": {},
   "source": [
    "### After you've built the best model you can, now it's time to visualize it!"
   ]
  },
  {
   "cell_type": "markdown",
   "metadata": {},
   "source": [
    "Rememeber that amazing blog post from a few paragraphs ago, that demonstrated how to visualize and interpret the results of your Decision Tree model. We've seen that this can perform very well, but let's see how it does on the \"German Credit\" dataset that we're working on, due to it being a bit larger than the one used by the blog authors."
   ]
  },
  {
   "cell_type": "markdown",
   "metadata": {},
   "source": [
    "First, we're going to need to install their package. If you're using Anaconda, this can be done easily by running:"
   ]
  },
  {
   "cell_type": "code",
   "execution_count": 20,
   "metadata": {},
   "outputs": [
    {
     "name": "stdout",
     "output_type": "stream",
     "text": [
      "Requirement already satisfied: dtreeviz in /home/ubuntu/.local/lib/python3.6/site-packages (0.8.1)\n",
      "Requirement already satisfied: colour in /home/ubuntu/.local/lib/python3.6/site-packages (from dtreeviz) (0.1.5)\n",
      "Requirement already satisfied: matplotlib in /usr/local/anaconda/lib/python3.6/site-packages (from dtreeviz) (2.2.2)\n",
      "Requirement already satisfied: scikit-learn in /usr/local/anaconda/lib/python3.6/site-packages (from dtreeviz) (0.19.1)\n",
      "Requirement already satisfied: graphviz>=0.9 in /home/ubuntu/.local/lib/python3.6/site-packages (from dtreeviz) (0.13.2)\n",
      "Requirement already satisfied: numpy in /usr/local/anaconda/lib/python3.6/site-packages (from dtreeviz) (1.13.3)\n",
      "Requirement already satisfied: pandas in /usr/local/anaconda/lib/python3.6/site-packages (from dtreeviz) (0.20.3)\n",
      "Requirement already satisfied: pytz in /usr/local/anaconda/lib/python3.6/site-packages (from matplotlib->dtreeviz) (2018.4)\n",
      "Requirement already satisfied: pyparsing!=2.0.4,!=2.1.2,!=2.1.6,>=2.0.1 in /usr/local/anaconda/lib/python3.6/site-packages (from matplotlib->dtreeviz) (2.2.0)\n",
      "Requirement already satisfied: kiwisolver>=1.0.1 in /usr/local/anaconda/lib/python3.6/site-packages (from matplotlib->dtreeviz) (1.0.1)\n",
      "Requirement already satisfied: six>=1.10 in /usr/local/anaconda/lib/python3.6/site-packages (from matplotlib->dtreeviz) (1.11.0)\n",
      "Requirement already satisfied: cycler>=0.10 in /usr/local/anaconda/lib/python3.6/site-packages (from matplotlib->dtreeviz) (0.10.0)\n",
      "Requirement already satisfied: python-dateutil>=2.1 in /usr/local/anaconda/lib/python3.6/site-packages (from matplotlib->dtreeviz) (2.7.3)\n",
      "Requirement already satisfied: setuptools in /usr/local/anaconda/lib/python3.6/site-packages (from kiwisolver>=1.0.1->matplotlib->dtreeviz) (39.2.0)\n"
     ]
    }
   ],
   "source": [
    "! pip install dtreeviz --user"
   ]
  },
  {
   "cell_type": "markdown",
   "metadata": {},
   "source": [
    "If for any reason this way of installing doesn't work for you straight out of the box, please refer to the more detailed documentation here: https://github.com/parrt/dtreeviz"
   ]
  },
  {
   "cell_type": "markdown",
   "metadata": {},
   "source": [
    "Now you're ready to visualize your Decision Tree model! Please feel free to use the blog post for guidance and inspiration!"
   ]
  },
  {
   "cell_type": "code",
   "execution_count": null,
   "metadata": {},
   "outputs": [],
   "source": [
    "# Your code here! :)\n",
    "from dtreeviz.trees import *\n",
    "\n",
    "viz = dtreeviz(regr,\n",
    "               df_x,\n",
    "               df_y,\n",
    "               target_name='Class',\n",
    "               feature_names=df_x.columns)\n",
    "              \n",
    "viz.view()              "
   ]
  },
  {
   "cell_type": "markdown",
   "metadata": {},
   "source": [
    "## Random Forests"
   ]
  },
  {
   "cell_type": "markdown",
   "metadata": {},
   "source": [
    "As discussed in the lecture videos, Decision Tree algorithms also have certain undesireable properties. Mainly the have low bias, which is good, but tend to have high variance - which is *not* so good (more about this problem here: https://en.wikipedia.org/wiki/Bias%E2%80%93variance_tradeoff)."
   ]
  },
  {
   "cell_type": "markdown",
   "metadata": {},
   "source": [
    "Noticing these problems, the late Professor Leo Breiman, in 2001, developed the Random Forests algorithm, which mitigates these problems, while at the same time providing even higher predictive accuracy than the majority of Decision Tree algorithm implementations. While the curriculum contains two excellent lectures on Random Forests, if you're interested, you can dive into the original paper here: https://link.springer.com/content/pdf/10.1023%2FA%3A1010933404324.pdf."
   ]
  },
  {
   "cell_type": "markdown",
   "metadata": {},
   "source": [
    "In the next part of this assignment, your are going to use the same \"German Credit\" dataset to train, tune, and measure the performance of a Random Forests model. You will also see certain functionalities that this model, even though it's a bit of a \"black box\", provides for some degree of interpretability."
   ]
  },
  {
   "cell_type": "markdown",
   "metadata": {},
   "source": [
    "First, let's build a Random Forests model, using the same best practices that you've used for your Decision Trees model. You can reuse the things you've already imported there, so no need to do any re-imports, new train/test splits, or loading up the data again."
   ]
  },
  {
   "cell_type": "code",
   "execution_count": 23,
   "metadata": {
    "collapsed": true
   },
   "outputs": [],
   "source": [
    "from sklearn.ensemble import RandomForestClassifier"
   ]
  },
  {
   "cell_type": "code",
   "execution_count": 68,
   "metadata": {},
   "outputs": [
    {
     "data": {
      "text/plain": [
       "array([ 0.70967742,  0.58064516,  0.77419355,  0.70967742,  0.76666667,\n",
       "        0.7       ,  0.75862069,  0.75862069,  0.75862069,  0.79310345])"
      ]
     },
     "execution_count": 68,
     "metadata": {},
     "output_type": "execute_result"
    }
   ],
   "source": [
    "# Your code here! :)\n",
    "rf_clf = RandomForestClassifier(random_state=0)\n",
    "rf_clf.fit(X_train,y_train)\n",
    "cross_val_score(rf_clf, X_test, y_test, cv=10)"
   ]
  },
  {
   "cell_type": "markdown",
   "metadata": {},
   "source": [
    "As mentioned, there are certain ways to \"peek\" into a model created by the Random Forests algorithm. The first, and most popular one, is the Feature Importance calculation functionality. This allows the ML practitioner to see an ordering of the importance of the features that have contributed the most to the predictive accuracy of the model. \n",
    "\n",
    "You can see how to use this in the scikit-learn documentation (http://scikit-learn.org/stable/modules/generated/sklearn.ensemble.RandomForestClassifier.html#sklearn.ensemble.RandomForestClassifier.feature_importances_). Now, if you tried this, you would just get an ordered table of not directly interpretable numeric values. Thus, it's much more useful to show the feature importance in a visual way. You can see an example of how that's done here: http://scikit-learn.org/stable/auto_examples/ensemble/plot_forest_importances.html#sphx-glr-auto-examples-ensemble-plot-forest-importances-py\n",
    "\n",
    "Now you try! Let's visualize the importance of features from your Random Forests model!"
   ]
  },
  {
   "cell_type": "code",
   "execution_count": 69,
   "metadata": {},
   "outputs": [
    {
     "data": {
      "text/plain": [
       "array([ 0.09141397,  0.10104342,  0.0397118 ,  0.03321218,  0.07862989,\n",
       "        0.01690223,  0.01287012,  0.01877814,  0.00255538,  0.04068861,\n",
       "        0.01355822,  0.00780511,  0.03634711,  0.01950686,  0.01198175,\n",
       "        0.01284709,  0.00836122,  0.02481077,  0.01916165,  0.00682044,\n",
       "        0.00875942,  0.01084316,  0.00154133,  0.00729079,  0.0084463 ,\n",
       "        0.        ,  0.00173281,  0.01124911,  0.00538848,  0.01958857,\n",
       "        0.007122  ,  0.0063795 ,  0.00464575,  0.01759179,  0.01931204,\n",
       "        0.01528567,  0.01134608,  0.01192909,  0.00592574,  0.01004364,\n",
       "        0.01143108,  0.00870945,  0.01249926,  0.        ,  0.00789344,\n",
       "        0.00890506,  0.00498828,  0.01745846,  0.01286284,  0.01584226,\n",
       "        0.01367764,  0.01369313,  0.00598497,  0.01199517,  0.00720837,\n",
       "        0.01526576,  0.00578571,  0.00174612,  0.01121428,  0.01974383,\n",
       "        0.01166768])"
      ]
     },
     "execution_count": 69,
     "metadata": {},
     "output_type": "execute_result"
    }
   ],
   "source": [
    "# Your code here\n",
    "rf_clf.feature_importances_"
   ]
  },
  {
   "cell_type": "code",
   "execution_count": 71,
   "metadata": {},
   "outputs": [
    {
     "name": "stdout",
     "output_type": "stream",
     "text": [
      "Feature ranking:\n",
      "1. feature 1 (0.101043)\n",
      "2. feature 0 (0.091414)\n",
      "3. feature 4 (0.078630)\n",
      "4. feature 9 (0.040689)\n",
      "5. feature 2 (0.039712)\n",
      "6. feature 12 (0.036347)\n",
      "7. feature 3 (0.033212)\n",
      "8. feature 17 (0.024811)\n",
      "9. feature 59 (0.019744)\n",
      "10. feature 29 (0.019589)\n",
      "11. feature 13 (0.019507)\n",
      "12. feature 34 (0.019312)\n",
      "13. feature 18 (0.019162)\n",
      "14. feature 7 (0.018778)\n",
      "15. feature 33 (0.017592)\n",
      "16. feature 47 (0.017458)\n",
      "17. feature 5 (0.016902)\n",
      "18. feature 49 (0.015842)\n",
      "19. feature 35 (0.015286)\n",
      "20. feature 55 (0.015266)\n",
      "21. feature 51 (0.013693)\n",
      "22. feature 50 (0.013678)\n",
      "23. feature 10 (0.013558)\n",
      "24. feature 6 (0.012870)\n",
      "25. feature 48 (0.012863)\n",
      "26. feature 15 (0.012847)\n",
      "27. feature 42 (0.012499)\n",
      "28. feature 53 (0.011995)\n",
      "29. feature 14 (0.011982)\n",
      "30. feature 37 (0.011929)\n",
      "31. feature 60 (0.011668)\n",
      "32. feature 40 (0.011431)\n",
      "33. feature 36 (0.011346)\n",
      "34. feature 27 (0.011249)\n",
      "35. feature 58 (0.011214)\n",
      "36. feature 21 (0.010843)\n",
      "37. feature 39 (0.010044)\n",
      "38. feature 45 (0.008905)\n",
      "39. feature 20 (0.008759)\n",
      "40. feature 41 (0.008709)\n",
      "41. feature 24 (0.008446)\n",
      "42. feature 16 (0.008361)\n",
      "43. feature 44 (0.007893)\n",
      "44. feature 11 (0.007805)\n",
      "45. feature 23 (0.007291)\n",
      "46. feature 54 (0.007208)\n",
      "47. feature 30 (0.007122)\n",
      "48. feature 19 (0.006820)\n",
      "49. feature 31 (0.006379)\n",
      "50. feature 52 (0.005985)\n",
      "51. feature 38 (0.005926)\n",
      "52. feature 56 (0.005786)\n",
      "53. feature 28 (0.005388)\n",
      "54. feature 46 (0.004988)\n",
      "55. feature 32 (0.004646)\n",
      "56. feature 8 (0.002555)\n",
      "57. feature 57 (0.001746)\n",
      "58. feature 26 (0.001733)\n",
      "59. feature 22 (0.001541)\n",
      "60. feature 43 (0.000000)\n",
      "61. feature 25 (0.000000)\n"
     ]
    },
    {
     "data": {
      "image/png": "[encoded data removed]",
      "text/plain": [
       "<Figure size 432x288 with 1 Axes>"
      ]
     },
     "metadata": {},
     "output_type": "display_data"
    }
   ],
   "source": [
    "import numpy as np\n",
    "import matplotlib.pyplot as plt\n",
    "importances = rf_clf.feature_importances_\n",
    "std = np.std([rf_clf.feature_importances_ for tree in rf_clf.estimators_],\n",
    "             axis=0)\n",
    "indices = np.argsort(importances)[::-1]\n",
    "\n",
    "# Print the feature ranking\n",
    "print(\"Feature ranking:\")\n",
    "\n",
    "for f in range(df_x.shape[1]):\n",
    "    print(\"%d. feature %d (%f)\" % (f + 1, indices[f], importances[indices[f]]))\n",
    "\n",
    "# Plot the feature importances of the forest\n",
    "plt.figure()\n",
    "plt.title(\"Feature importances\")\n",
    "plt.bar(range(df_x.shape[1]), importances[indices],\n",
    "       color=\"r\", yerr=std[indices], align=\"center\")\n",
    "plt.xticks(range(df_x.shape[1]), indices)\n",
    "plt.xlim([-1, df_x.shape[1]])\n",
    "plt.show()"
   ]
  },
  {
   "cell_type": "markdown",
   "metadata": {},
   "source": [
    "A final method for gaining some insight into the inner working of your Random Forests models is a so-called Partial Dependence Plot. The Partial Dependence Plot (PDP or PD plot) shows the marginal effect of a feature on the predicted outcome of a previously fit model. The prediction function is fixed at a few values of the chosen features and averaged over the other features. A partial dependence plot can show if the relationship between the target and a feature is linear, monotonic or more complex. \n",
    "\n",
    "In scikit-learn, PDPs are implemented and available for certain algorithms, but at this point (version 0.20.0) they are not yet implemented for Random Forests. Thankfully, there is an add-on package called **PDPbox** (https://pdpbox.readthedocs.io/en/latest/) which adds this functionality to Random Forests. The package is easy to install through pip."
   ]
  },
  {
   "cell_type": "code",
   "execution_count": 46,
   "metadata": {},
   "outputs": [
    {
     "name": "stdout",
     "output_type": "stream",
     "text": [
      "Collecting pdpbox\n",
      "  Downloading PDPbox-0.2.0.tar.gz (57.7 MB)\n",
      "\u001b[K     |████████████████████████████████| 57.7 MB 63.9 MB/s eta 0:00:01     |████████████▋                   | 22.7 MB 35.9 MB/s eta 0:00:01     |███████████████████████▌        | 42.4 MB 35.9 MB/s eta 0:00:01\n",
      "\u001b[?25hRequirement already satisfied: pandas in /usr/local/anaconda/lib/python3.6/site-packages (from pdpbox) (0.20.3)\n",
      "Requirement already satisfied: numpy in /usr/local/anaconda/lib/python3.6/site-packages (from pdpbox) (1.13.3)\n",
      "Requirement already satisfied: scipy in /usr/local/anaconda/lib/python3.6/site-packages (from pdpbox) (1.1.0)\n",
      "Requirement already satisfied: matplotlib>=2.1.2 in /usr/local/anaconda/lib/python3.6/site-packages (from pdpbox) (2.2.2)\n",
      "Requirement already satisfied: joblib in /usr/local/anaconda/lib/python3.6/site-packages (from pdpbox) (0.11)\n",
      "Requirement already satisfied: psutil in /usr/local/anaconda/lib/python3.6/site-packages (from pdpbox) (5.2.2)\n",
      "Requirement already satisfied: scikit-learn in /usr/local/anaconda/lib/python3.6/site-packages (from pdpbox) (0.19.1)\n",
      "Requirement already satisfied: python-dateutil>=2 in /usr/local/anaconda/lib/python3.6/site-packages (from pandas->pdpbox) (2.7.3)\n",
      "Requirement already satisfied: pytz>=2011k in /usr/local/anaconda/lib/python3.6/site-packages (from pandas->pdpbox) (2018.4)\n",
      "Requirement already satisfied: kiwisolver>=1.0.1 in /usr/local/anaconda/lib/python3.6/site-packages (from matplotlib>=2.1.2->pdpbox) (1.0.1)\n",
      "Requirement already satisfied: six>=1.10 in /usr/local/anaconda/lib/python3.6/site-packages (from matplotlib>=2.1.2->pdpbox) (1.11.0)\n",
      "Requirement already satisfied: pyparsing!=2.0.4,!=2.1.2,!=2.1.6,>=2.0.1 in /usr/local/anaconda/lib/python3.6/site-packages (from matplotlib>=2.1.2->pdpbox) (2.2.0)\n",
      "Requirement already satisfied: cycler>=0.10 in /usr/local/anaconda/lib/python3.6/site-packages (from matplotlib>=2.1.2->pdpbox) (0.10.0)\n",
      "Requirement already satisfied: setuptools in /usr/local/anaconda/lib/python3.6/site-packages (from kiwisolver>=1.0.1->matplotlib>=2.1.2->pdpbox) (39.2.0)\n",
      "Building wheels for collected packages: pdpbox\n",
      "  Building wheel for pdpbox (setup.py) ... \u001b[?25ldone\n",
      "\u001b[?25h  Created wheel for pdpbox: filename=PDPbox-0.2.0-py3-none-any.whl size=57691480 sha256=81dff5ffe218359b003b65331969ac83b85bd8390fd810c97e0c345dbdaeae1d\n",
      "  Stored in directory: /home/ubuntu/.cache/pip/wheels/23/d4/d0/7c7a2adaab2fa7c7108e86c0eb7272fa8e2cd0b6b6732d2e15\n",
      "Successfully built pdpbox\n",
      "Installing collected packages: pdpbox\n",
      "Successfully installed pdpbox-0.2.0\n"
     ]
    }
   ],
   "source": [
    "! pip install pdpbox"
   ]
  },
  {
   "cell_type": "markdown",
   "metadata": {},
   "source": [
    "While we encourage you to read the documentation for the package (and reading package documentation in general is a good habit to develop), the authors of the package have also written an excellent blog post on how to use it, showing examples on different algorithms from scikit-learn (the Random Forests example is towards the end of the blog post): https://briangriner.github.io/Partial_Dependence_Plots_presentation-BrianGriner-PrincetonPublicLibrary-4.14.18-updated-4.22.18.html"
   ]
  },
  {
   "cell_type": "markdown",
   "metadata": {},
   "source": [
    "So, armed with this new knowledge, feel free to pick a few features, and make a couple of Partial Dependence Plots of your own!"
   ]
  },
  {
   "cell_type": "code",
   "execution_count": 83,
   "metadata": {},
   "outputs": [
    {
     "data": {
      "image/png": "[encoded data removed]",
      "text/plain": [
       "<Figure size 540x684 with 3 Axes>"
      ]
     },
     "metadata": {},
     "output_type": "display_data"
    }
   ],
   "source": [
    "# Your code here!\n",
    "from pdpbox import pdp\n",
    "\n",
    "pdp_rf = pdp.pdp_interact(rf_clf,df,df_x.columns,['NumberExistingCredits','Age'])\n",
    "pdp.pdp_interact_plot(pdp_rf, ['NumberExistingCredits','Age'])\n",
    "plt.show()"
   ]
  },
  {
   "cell_type": "markdown",
   "metadata": {},
   "source": [
    "## (Optional) Advanced Boosting-Based Algorithms"
   ]
  },
  {
   "cell_type": "markdown",
   "metadata": {},
   "source": [
    "As explained in the video lectures, the next generation of algorithms after Random Forests (that use Bagging, a.k.a. Bootstrap Aggregation) were developed using Boosting, and the first one of these were Gradient Boosted Machines, which are implemented in scikit-learn (http://scikit-learn.org/stable/modules/ensemble.html#gradient-tree-boosting)."
   ]
  },
  {
   "cell_type": "markdown",
   "metadata": {},
   "source": [
    "Still, in recent years, a number of variations on GBMs have been developed by different research amd industry groups, all of them bringing improvements, both in speed, accuracy and functionality to the original Gradient Boosting algorithms.\n",
    "\n",
    "In no order of preference, these are:\n",
    "1. **XGBoost**: https://xgboost.readthedocs.io/en/latest/\n",
    "2. **CatBoost**: https://tech.yandex.com/catboost/\n",
    "3. **LightGBM**: https://lightgbm.readthedocs.io/en/latest/"
   ]
  },
  {
   "cell_type": "markdown",
   "metadata": {},
   "source": [
    "If you're using the Anaconda distribution, these are all very easy to install:"
   ]
  },
  {
   "cell_type": "code",
   "execution_count": null,
   "metadata": {
    "collapsed": true
   },
   "outputs": [],
   "source": [
    "! conda install -c anaconda py-xgboost"
   ]
  },
  {
   "cell_type": "code",
   "execution_count": 91,
   "metadata": {},
   "outputs": [
    {
     "name": "stdout",
     "output_type": "stream",
     "text": [
      "Collecting graphviz==0.8.1\n",
      "  Using cached graphviz-0.8.1-py2.py3-none-any.whl (17 kB)\n",
      "\u001b[31mERROR: dtreeviz 0.8.1 has requirement graphviz>=0.9, but you'll have graphviz 0.8.1 which is incompatible.\u001b[0m\n",
      "\u001b[31mERROR: mxnet-cu80 1.2.0 has requirement numpy<1.15.0,>=1.8.2, but you'll have numpy 1.18.1 which is incompatible.\u001b[0m\n",
      "Installing collected packages: graphviz\n",
      "  Attempting uninstall: graphviz\n",
      "    Found existing installation: graphviz 0.13.2\n",
      "    Uninstalling graphviz-0.13.2:\n",
      "      Successfully uninstalled graphviz-0.13.2\n",
      "Successfully installed graphviz-0.8.1\n",
      "Collecting numpy==1.8.2\n",
      "  Using cached numpy-1.8.2.tar.gz (3.8 MB)\n",
      "Building wheels for collected packages: numpy\n",
      "  Building wheel for numpy (setup.py) ... \u001b[?25ldone\n",
      "\u001b[?25h  Created wheel for numpy: filename=numpy-1.8.2-cp36-cp36m-linux_x86_64.whl size=5849019 sha256=17fb3b73c18e76b1800ef15da58b4e3393debe5df7b5782cde7e0417fa5b4235\n",
      "  Stored in directory: /home/ubuntu/.cache/pip/wheels/b2/f2/68/8a82eb550bb4edb2338b180e9f2543424003ae8c77c00596af\n",
      "Successfully built numpy\n",
      "\u001b[31mERROR: pandas 1.0.1 has requirement numpy>=1.13.3, but you'll have numpy 1.8.2 which is incompatible.\u001b[0m\n",
      "\u001b[31mERROR: dtreeviz 0.8.1 has requirement graphviz>=0.9, but you'll have graphviz 0.8.1 which is incompatible.\u001b[0m\n",
      "\u001b[31mERROR: catboost 0.22 has requirement numpy>=1.16.0, but you'll have numpy 1.8.2 which is incompatible.\u001b[0m\n",
      "\u001b[31mERROR: xarray 0.10.4 has requirement numpy>=1.11, but you'll have numpy 1.8.2 which is incompatible.\u001b[0m\n",
      "\u001b[31mERROR: tensorflow 1.8.0 has requirement numpy>=1.13.3, but you'll have numpy 1.8.2 which is incompatible.\u001b[0m\n",
      "\u001b[31mERROR: tensorflow-tensorboard 0.4.0 has requirement numpy>=1.12.0, but you'll have numpy 1.8.2 which is incompatible.\u001b[0m\n",
      "\u001b[31mERROR: tensorflow-gpu 1.4.0rc1 has requirement numpy>=1.12.1, but you'll have numpy 1.8.2 which is incompatible.\u001b[0m\n",
      "\u001b[31mERROR: tensorboard 1.8.0 has requirement numpy>=1.12.0, but you'll have numpy 1.8.2 which is incompatible.\u001b[0m\n",
      "\u001b[31mERROR: pywavelets 0.5.2 has requirement numpy>=1.9.1, but you'll have numpy 1.8.2 which is incompatible.\u001b[0m\n",
      "\u001b[31mERROR: pyarrow 0.7.1 has requirement numpy>=1.10, but you'll have numpy 1.8.2 which is incompatible.\u001b[0m\n",
      "\u001b[31mERROR: msgpack-numpy 0.4.1 has requirement numpy>=1.9.0, but you'll have numpy 1.8.2 which is incompatible.\u001b[0m\n",
      "\u001b[31mERROR: keras 2.1.6 has requirement numpy>=1.9.1, but you'll have numpy 1.8.2 which is incompatible.\u001b[0m\n",
      "\u001b[31mERROR: gensim 3.4.0 has requirement numpy>=1.11.3, but you'll have numpy 1.8.2 which is incompatible.\u001b[0m\n",
      "\u001b[31mERROR: astropy 2.0.1 has requirement numpy>=1.9.0, but you'll have numpy 1.8.2 which is incompatible.\u001b[0m\n",
      "Installing collected packages: numpy\n",
      "  Attempting uninstall: numpy\n",
      "    Found existing installation: numpy 1.18.1\n",
      "    Uninstalling numpy-1.18.1:\n",
      "      Successfully uninstalled numpy-1.18.1\n",
      "Successfully installed numpy-1.8.2\n"
     ]
    }
   ],
   "source": [
    "! pip install graphviz==0.8.1 --user\n",
    "! pip install numpy==1.8.2 --user"
   ]
  },
  {
   "cell_type": "code",
   "execution_count": 87,
   "metadata": {},
   "outputs": [
    {
     "name": "stdout",
     "output_type": "stream",
     "text": [
      "Collecting catboost\n",
      "  Using cached catboost-0.22-cp36-none-manylinux1_x86_64.whl (64.4 MB)\n",
      "Collecting numpy>=1.16.0\n",
      "  Using cached numpy-1.18.1-cp36-cp36m-manylinux1_x86_64.whl (20.1 MB)\n",
      "Collecting pandas>=0.24.0\n",
      "  Using cached pandas-1.0.1-cp36-cp36m-manylinux1_x86_64.whl (10.1 MB)\n",
      "Requirement already satisfied: scipy in /usr/local/anaconda/lib/python3.6/site-packages (from catboost) (1.1.0)\n",
      "Requirement already satisfied: plotly in /usr/local/anaconda/lib/python3.6/site-packages (from catboost) (2.6.0)\n",
      "Requirement already satisfied: matplotlib in /usr/local/anaconda/lib/python3.6/site-packages (from catboost) (2.2.2)\n",
      "Requirement already satisfied: six in /usr/local/anaconda/lib/python3.6/site-packages (from catboost) (1.11.0)\n",
      "Requirement already satisfied: graphviz in /home/ubuntu/.local/lib/python3.6/site-packages (from catboost) (0.13.2)\n",
      "Requirement already satisfied: pytz>=2017.2 in /usr/local/anaconda/lib/python3.6/site-packages (from pandas>=0.24.0->catboost) (2018.4)\n",
      "Requirement already satisfied: python-dateutil>=2.6.1 in /usr/local/anaconda/lib/python3.6/site-packages (from pandas>=0.24.0->catboost) (2.7.3)\n",
      "Requirement already satisfied: nbformat>=4.2 in /usr/local/anaconda/lib/python3.6/site-packages (from plotly->catboost) (4.4.0)\n",
      "Requirement already satisfied: decorator>=4.0.6 in /usr/local/anaconda/lib/python3.6/site-packages (from plotly->catboost) (4.1.2)\n",
      "Requirement already satisfied: requests in /usr/local/anaconda/lib/python3.6/site-packages (from plotly->catboost) (2.18.4)\n",
      "Requirement already satisfied: kiwisolver>=1.0.1 in /usr/local/anaconda/lib/python3.6/site-packages (from matplotlib->catboost) (1.0.1)\n",
      "Requirement already satisfied: pyparsing!=2.0.4,!=2.1.2,!=2.1.6,>=2.0.1 in /usr/local/anaconda/lib/python3.6/site-packages (from matplotlib->catboost) (2.2.0)\n",
      "Requirement already satisfied: cycler>=0.10 in /usr/local/anaconda/lib/python3.6/site-packages (from matplotlib->catboost) (0.10.0)\n",
      "Requirement already satisfied: chardet<3.1.0,>=3.0.2 in /usr/local/anaconda/lib/python3.6/site-packages (from requests->plotly->catboost) (3.0.4)\n",
      "Requirement already satisfied: certifi>=2017.4.17 in /usr/local/anaconda/lib/python3.6/site-packages (from requests->plotly->catboost) (2017.11.5)\n",
      "Requirement already satisfied: urllib3<1.23,>=1.21.1 in /usr/local/anaconda/lib/python3.6/site-packages (from requests->plotly->catboost) (1.22)\n",
      "Requirement already satisfied: idna<2.7,>=2.5 in /usr/local/anaconda/lib/python3.6/site-packages (from requests->plotly->catboost) (2.6)\n",
      "Requirement already satisfied: setuptools in /usr/local/anaconda/lib/python3.6/site-packages (from kiwisolver>=1.0.1->matplotlib->catboost) (39.2.0)\n",
      "\u001b[31mERROR: mxnet-cu80 1.2.0 has requirement graphviz<0.9.0,>=0.8.1, but you'll have graphviz 0.13.2 which is incompatible.\u001b[0m\n",
      "\u001b[31mERROR: mxnet-cu80 1.2.0 has requirement numpy<1.15.0,>=1.8.2, but you'll have numpy 1.18.1 which is incompatible.\u001b[0m\n",
      "Installing collected packages: numpy, pandas, catboost\n",
      "\u001b[33m  WARNING: The scripts f2py, f2py3 and f2py3.6 are installed in '/home/ubuntu/.local/bin' which is not on PATH.\n",
      "  Consider adding this directory to PATH or, if you prefer to suppress this warning, use --no-warn-script-location.\u001b[0m\n",
      "Successfully installed catboost-0.22 numpy-1.18.1 pandas-1.0.1\n"
     ]
    }
   ],
   "source": [
    "! pip install catboost --user"
   ]
  },
  {
   "cell_type": "code",
   "execution_count": null,
   "metadata": {
    "collapsed": true
   },
   "outputs": [],
   "source": [
    "! conda install -c conda-forge lightgbm"
   ]
  },
  {
   "cell_type": "markdown",
   "metadata": {},
   "source": [
    "Your task in this optional section of the mini project is to read the documentation of these three libraries, and apply all of them to the \"German Credit\" dataset, just like you did in the case of Decision Trees and Random Forests."
   ]
  },
  {
   "cell_type": "markdown",
   "metadata": {},
   "source": [
    "The final deliverable of this section should be a table (can be a pandas DataFrame) which shows the accuracy of all the five algorthms taught in this mini project in one place."
   ]
  },
  {
   "cell_type": "markdown",
   "metadata": {},
   "source": [
    "Happy modeling! :)"
   ]
  },
  {
   "cell_type": "code",
   "execution_count": 88,
   "metadata": {},
   "outputs": [
    {
     "ename": "ModuleNotFoundError",
     "evalue": "No module named 'catboost'",
     "output_type": "error",
     "traceback": [
      "\u001b[0;31m---------------------------------------------------------------------------\u001b[0m",
      "\u001b[0;31mModuleNotFoundError\u001b[0m                       Traceback (most recent call last)",
      "\u001b[0;32m<ipython-input-88-5cc7568da3bb>\u001b[0m in \u001b[0;36m<module>\u001b[0;34m()\u001b[0m\n\u001b[0;32m----> 1\u001b[0;31m \u001b[0;32mfrom\u001b[0m \u001b[0mcatboost\u001b[0m \u001b[0;32mimport\u001b[0m \u001b[0mCatBoostClassifier\u001b[0m\u001b[0;34m,\u001b[0m \u001b[0mPool\u001b[0m\u001b[0;34m\u001b[0m\u001b[0m\n\u001b[0m",
      "\u001b[0;31mModuleNotFoundError\u001b[0m: No module named 'catboost'"
     ]
    }
   ],
   "source": [
    "from catboost import CatBoostClassifier, Pool"
   ]
  },
  {
   "cell_type": "code",
   "execution_count": null,
   "metadata": {
    "collapsed": true
   },
   "outputs": [],
   "source": []
  }
 ],
 "metadata": {
  "kernelspec": {
   "display_name": "Python 3",
   "language": "python",
   "name": "python3"
  },
  "language_info": {
   "codemirror_mode": {
    "name": "ipython",
    "version": 3
   },
   "file_extension": ".py",
   "mimetype": "text/x-python",
   "name": "python",
   "nbconvert_exporter": "python",
   "pygments_lexer": "ipython3",
   "version": "3.6.2"
  }
 },
 "nbformat": 4,
 "nbformat_minor": 2
}
