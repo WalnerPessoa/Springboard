{
 "cells": [
  {
   "cell_type": "code",
   "execution_count": 1,
   "metadata": {},
   "outputs": [],
   "source": [
    "import ktrain\n",
    "from ktrain import text\n",
    "import pandas as pd\n",
    "import tensorflow as tf"
   ]
  },
  {
   "cell_type": "code",
   "execution_count": 2,
   "metadata": {},
   "outputs": [
    {
     "name": "stdout",
     "output_type": "stream",
     "text": [
      "TensorFlow Version: 2.1.0\n",
      "GPU: /device:GPU:0\n"
     ]
    }
   ],
   "source": [
    "from distutils.version import LooseVersion\n",
    "assert LooseVersion(tf.__version__) >= LooseVersion('1.0')\n",
    "print('TensorFlow Version: {}'.format(tf.__version__))\n",
    "\n",
    "if not tf.test.gpu_device_name():\n",
    "    print('NO GPU FOUND')\n",
    "else:\n",
    "    print('GPU: {}'.format(tf.test.gpu_device_name()))"
   ]
  },
  {
   "cell_type": "code",
   "execution_count": 3,
   "metadata": {},
   "outputs": [],
   "source": [
    "df_train = pd.read_csv('df_train.csv')\n",
    "df_train = df_train[df_train.text.notna()]\n",
    "df_test = pd.read_csv('df_test.csv')\n",
    "df_test = df_test[df_test.text.notna()]"
   ]
  },
  {
   "cell_type": "code",
   "execution_count": 7,
   "metadata": {},
   "outputs": [],
   "source": [
    "df_merged = pd.concat([df_train, df_test])"
   ]
  },
  {
   "cell_type": "code",
   "execution_count": 12,
   "metadata": {},
   "outputs": [
    {
     "name": "stdout",
     "output_type": "stream",
     "text": [
      "preprocessing train...\n",
      "language: en\n"
     ]
    },
    {
     "data": {
      "text/html": [
       "done."
      ],
      "text/plain": [
       "<IPython.core.display.HTML object>"
      ]
     },
     "metadata": {},
     "output_type": "display_data"
    },
    {
     "name": "stdout",
     "output_type": "stream",
     "text": [
      "Is Multi-Label? False\n",
      "preprocessing test...\n",
      "language: en\n"
     ]
    },
    {
     "data": {
      "text/html": [
       "done."
      ],
      "text/plain": [
       "<IPython.core.display.HTML object>"
      ]
     },
     "metadata": {},
     "output_type": "display_data"
    },
    {
     "name": "stdout",
     "output_type": "stream",
     "text": [
      "Is Multi-Label? False\n",
      "maxlen is 50\n",
      "done.\n"
     ]
    }
   ],
   "source": [
    "(x_train, y_train), (x_test, y_test), preproc = text.texts_from_df(df_merged, \n",
    "                                                                   'text', # name of column containing review text\n",
    "                                                                   label_columns=['rating'],\n",
    "                                                                   maxlen=50, \n",
    "                                                                   max_features=50,\n",
    "                                                                   preprocess_mode='bert',\n",
    "                                                                   val_pct=0.2,\n",
    "                                                                   ngram_range=3)\n",
    "\n",
    "model = text.text_classifier('bert', (x_train, y_train) , preproc=preproc)\n",
    "learner = ktrain.get_learner(model, \n",
    "                             train_data=(x_train, y_train), \n",
    "                             val_data=(x_test, y_test), \n",
    "                             batch_size=32)"
   ]
  },
  {
   "cell_type": "code",
   "execution_count": 13,
   "metadata": {
    "scrolled": true
   },
   "outputs": [
    {
     "name": "stdout",
     "output_type": "stream",
     "text": [
      "\n",
      "\n",
      "begin training using onecycle policy with max lr of 2e-05...\n",
      "Train on 2919980 samples, validate on 729995 samples\n",
      "2919980/2919980 [==============================] - 55243s 19ms/sample - loss: 0.6799 - accuracy: 0.7086 - val_loss: 0.6197 - val_accuracy: 0.7368\n"
     ]
    },
    {
     "data": {
      "text/plain": [
       "<tensorflow.python.keras.callbacks.History at 0x1370f6d8f08>"
      ]
     },
     "execution_count": 13,
     "metadata": {},
     "output_type": "execute_result"
    }
   ],
   "source": [
    "learner.fit_onecycle(2e-5, 1)"
   ]
  },
  {
   "cell_type": "code",
   "execution_count": 14,
   "metadata": {},
   "outputs": [],
   "source": [
    "predictor = ktrain.get_predictor(learner.model, preproc)\n",
    "data=[\"There is no reason to drop $60 on this dumpster fire. Just go to YouTube and skip all the BS.\",\n",
    "    \"Great game so far. Was a huge fan of the first one. Anyone who trashes the game because of LBGT references is a horrible person leaving low reviews because of hate. If you liked the first game, you'll like this one just as much, if not more.\"]"
   ]
  },
  {
   "cell_type": "code",
   "execution_count": 15,
   "metadata": {},
   "outputs": [
    {
     "name": "stderr",
     "output_type": "stream",
     "text": [
      "D:\\steffanini\\anaconda\\envs\\gputest\\lib\\site-packages\\ktrain\\text\\preprocessor.py:228: UserWarning: List or array of two texts supplied, so task being treated as text classification. If this is a sentence pair classification task, please cast to tuple.\n",
      "  warnings.warn('List or array of two texts supplied, so task being treated as text classification. ' +\\\n"
     ]
    },
    {
     "data": {
      "text/html": [],
      "text/plain": [
       "<IPython.core.display.HTML object>"
      ]
     },
     "metadata": {},
     "output_type": "display_data"
    },
    {
     "data": {
      "text/plain": [
       "['bad', 'good']"
      ]
     },
     "execution_count": 15,
     "metadata": {},
     "output_type": "execute_result"
    }
   ],
   "source": [
    "predictor.predict(data)"
   ]
  },
  {
   "cell_type": "code",
   "execution_count": 16,
   "metadata": {},
   "outputs": [],
   "source": [
    "predictor.save('sentiment_analysis')"
   ]
  },
  {
   "cell_type": "code",
   "execution_count": 2,
   "metadata": {},
   "outputs": [
    {
     "data": {
      "text/html": [],
      "text/plain": [
       "<IPython.core.display.HTML object>"
      ]
     },
     "metadata": {},
     "output_type": "display_data"
    },
    {
     "data": {
      "text/plain": [
       "['good', 'bad', 'neutral', 'good']"
      ]
     },
     "execution_count": 2,
     "metadata": {},
     "output_type": "execute_result"
    }
   ],
   "source": [
    "predictor = ktrain.load_predictor('sentiment_analysis')\n",
    "data=[\"I compared these to my other reverse weave gray champion joggers I have and I think they’re not legit! I bought a large gray one in store and they fit nice and cinched at my waist and fall on my belly button but these that I ordered through here do not fit the same!!!!! You would think if it’s the same product it would fit the same size but just a different color. I am so upset because I already took the tag off and I cannot return them, I thought that after a wash it would fit better but no I was wrong. I am so upset with this purchase and will not be buying again. I attached two photos. The gray pants i bought from a verified retailer of champion it was made in Honduras, and the black champion joggers I bought from amazon had tag saying made in Pakistan, also each tag has a different material feel to it. IF IT IS THE SAME JOGGER WHY MADE IN DIFF PLACES? This is why I believe the black joggers I bought from this retailer is not actually champion. I wish I could get my money back.\",\n",
    "     \"Love love loved these pants... until I wash and dried them. They shrank so much!! Would not recommend putting them in the dryer!\",\n",
    "     \"Likes these but Ran a bit small; needed next size but they rose in price so much I couldn’t re-order. Had to return but sturdy nice material. Also Just a bit short for my 5’9” and 5’10” girls.\",\n",
    "     \"These are my FAVORITE sweat pants, they’re comfy enough to lay around in but also look fitted enough to run errands and leave the house in. Good, sturdy material doesn’t stretch and look saggy. I’m 5’7 145 and I ordered a medium and they’re perfect. These will shrink a bit if you dry them.\"]\n",
    "predictor.predict(data)"
   ]
  },
  {
   "cell_type": "code",
   "execution_count": null,
   "metadata": {},
   "outputs": [],
   "source": []
  }
 ],
 "metadata": {
  "kernelspec": {
   "display_name": "gputest",
   "language": "python",
   "name": "gputest"
  },
  "language_info": {
   "codemirror_mode": {
    "name": "ipython",
    "version": 3
   },
   "file_extension": ".py",
   "mimetype": "text/x-python",
   "name": "python",
   "nbconvert_exporter": "python",
   "pygments_lexer": "ipython3",
   "version": "3.7.7"
  }
 },
 "nbformat": 4,
 "nbformat_minor": 4
}
